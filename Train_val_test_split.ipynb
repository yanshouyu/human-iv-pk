{
 "cells": [
  {
   "cell_type": "markdown",
   "id": "compressed-functionality",
   "metadata": {},
   "source": [
    "In this notebook I'm going to split the data. The strategy is time-split as per requirement. After splitting remember to examine target distribution."
   ]
  },
  {
   "cell_type": "code",
   "execution_count": 1,
   "id": "fitting-benchmark",
   "metadata": {},
   "outputs": [],
   "source": [
    "import numpy as np\n",
    "import matplotlib.pyplot as plt\n",
    "%matplotlib inline"
   ]
  },
  {
   "cell_type": "code",
   "execution_count": 2,
   "id": "elementary-civilian",
   "metadata": {},
   "outputs": [
    {
     "name": "stderr",
     "output_type": "stream",
     "text": [
      "RDKit WARNING: [10:40:49] Enabling RDKit 2019.09.3 jupyter extensions\n"
     ]
    }
   ],
   "source": [
    "%load_ext autoreload\n",
    "%autoreload 2\n",
    "import ivpk"
   ]
  },
  {
   "cell_type": "markdown",
   "id": "solar-vertical",
   "metadata": {},
   "source": [
    "## Data inspection"
   ]
  },
  {
   "cell_type": "markdown",
   "id": "front-bearing",
   "metadata": {},
   "source": [
    "First check full dataset."
   ]
  },
  {
   "cell_type": "code",
   "execution_count": 3,
   "id": "double-illustration",
   "metadata": {},
   "outputs": [],
   "source": [
    "df = ivpk.data.processed_df"
   ]
  },
  {
   "cell_type": "code",
   "execution_count": 4,
   "id": "indoor-bedroom",
   "metadata": {},
   "outputs": [
    {
     "data": {
      "text/plain": [
       "Index(['Name', 'SMILES', 'human VDss (L/kg)', 'human CL (mL/min/kg)',\n",
       "       'fraction unbound \\nin plasma (fu)', 'MRT (h)', 'terminal  t1/2 (h)',\n",
       "       'Year of first disclosure', 'moka_ionState7.4', 'MoKa.LogP',\n",
       "       'MoKa.LogD7.4', 'HBA', 'HBD', 'RotBondCount', 'MW', 'TPSA_NO'],\n",
       "      dtype='object')"
      ]
     },
     "execution_count": 4,
     "metadata": {},
     "output_type": "execute_result"
    }
   ],
   "source": [
    "df.columns"
   ]
  },
  {
   "cell_type": "code",
   "execution_count": 5,
   "id": "accomplished-enterprise",
   "metadata": {},
   "outputs": [
    {
     "data": {
      "text/html": [
       "<div>\n",
       "<style scoped>\n",
       "    .dataframe tbody tr th:only-of-type {\n",
       "        vertical-align: middle;\n",
       "    }\n",
       "\n",
       "    .dataframe tbody tr th {\n",
       "        vertical-align: top;\n",
       "    }\n",
       "\n",
       "    .dataframe thead th {\n",
       "        text-align: right;\n",
       "    }\n",
       "</style>\n",
       "<table border=\"1\" class=\"dataframe\">\n",
       "  <thead>\n",
       "    <tr style=\"text-align: right;\">\n",
       "      <th></th>\n",
       "      <th>human VDss (L/kg)</th>\n",
       "      <th>human CL (mL/min/kg)</th>\n",
       "      <th>fraction unbound \\nin plasma (fu)</th>\n",
       "      <th>MRT (h)</th>\n",
       "      <th>terminal  t1/2 (h)</th>\n",
       "      <th>Year of first disclosure</th>\n",
       "      <th>MoKa.LogP</th>\n",
       "      <th>MoKa.LogD7.4</th>\n",
       "      <th>HBA</th>\n",
       "      <th>HBD</th>\n",
       "      <th>RotBondCount</th>\n",
       "      <th>MW</th>\n",
       "      <th>TPSA_NO</th>\n",
       "    </tr>\n",
       "  </thead>\n",
       "  <tbody>\n",
       "    <tr>\n",
       "      <th>count</th>\n",
       "      <td>1300.000000</td>\n",
       "      <td>1335.000000</td>\n",
       "      <td>909.000000</td>\n",
       "      <td>1294.000000</td>\n",
       "      <td>1320.000000</td>\n",
       "      <td>1337.000000</td>\n",
       "      <td>1337.000000</td>\n",
       "      <td>1337.000000</td>\n",
       "      <td>1337.000000</td>\n",
       "      <td>1337.00000</td>\n",
       "      <td>1337.000000</td>\n",
       "      <td>1337.000000</td>\n",
       "      <td>1337.000000</td>\n",
       "    </tr>\n",
       "    <tr>\n",
       "      <th>mean</th>\n",
       "      <td>3.869653</td>\n",
       "      <td>12.318805</td>\n",
       "      <td>0.345102</td>\n",
       "      <td>17.337489</td>\n",
       "      <td>17.166407</td>\n",
       "      <td>1975.336574</td>\n",
       "      <td>1.658139</td>\n",
       "      <td>0.112104</td>\n",
       "      <td>7.178758</td>\n",
       "      <td>2.48018</td>\n",
       "      <td>6.066567</td>\n",
       "      <td>8.609909</td>\n",
       "      <td>6.468858</td>\n",
       "    </tr>\n",
       "    <tr>\n",
       "      <th>std</th>\n",
       "      <td>20.904023</td>\n",
       "      <td>48.990490</td>\n",
       "      <td>0.340138</td>\n",
       "      <td>74.714819</td>\n",
       "      <td>72.195522</td>\n",
       "      <td>23.553966</td>\n",
       "      <td>2.906150</td>\n",
       "      <td>3.362188</td>\n",
       "      <td>3.833968</td>\n",
       "      <td>1.96902</td>\n",
       "      <td>3.643865</td>\n",
       "      <td>0.764524</td>\n",
       "      <td>1.170177</td>\n",
       "    </tr>\n",
       "    <tr>\n",
       "      <th>min</th>\n",
       "      <td>0.030000</td>\n",
       "      <td>0.003700</td>\n",
       "      <td>0.000200</td>\n",
       "      <td>0.010000</td>\n",
       "      <td>0.020000</td>\n",
       "      <td>1878.000000</td>\n",
       "      <td>-9.000000</td>\n",
       "      <td>-9.000000</td>\n",
       "      <td>0.000000</td>\n",
       "      <td>0.00000</td>\n",
       "      <td>0.000000</td>\n",
       "      <td>5.427606</td>\n",
       "      <td>0.000000</td>\n",
       "    </tr>\n",
       "    <tr>\n",
       "      <th>25%</th>\n",
       "      <td>0.300000</td>\n",
       "      <td>1.700000</td>\n",
       "      <td>0.050000</td>\n",
       "      <td>1.745000</td>\n",
       "      <td>1.800000</td>\n",
       "      <td>1963.000000</td>\n",
       "      <td>0.210000</td>\n",
       "      <td>-1.600000</td>\n",
       "      <td>4.000000</td>\n",
       "      <td>1.00000</td>\n",
       "      <td>3.000000</td>\n",
       "      <td>8.162442</td>\n",
       "      <td>5.889960</td>\n",
       "    </tr>\n",
       "    <tr>\n",
       "      <th>50%</th>\n",
       "      <td>0.940000</td>\n",
       "      <td>4.700000</td>\n",
       "      <td>0.200000</td>\n",
       "      <td>4.000000</td>\n",
       "      <td>4.410000</td>\n",
       "      <td>1980.000000</td>\n",
       "      <td>2.000000</td>\n",
       "      <td>0.710000</td>\n",
       "      <td>6.000000</td>\n",
       "      <td>2.00000</td>\n",
       "      <td>5.000000</td>\n",
       "      <td>8.533485</td>\n",
       "      <td>6.485427</td>\n",
       "    </tr>\n",
       "    <tr>\n",
       "      <th>75%</th>\n",
       "      <td>2.662500</td>\n",
       "      <td>11.000000</td>\n",
       "      <td>0.650000</td>\n",
       "      <td>11.000000</td>\n",
       "      <td>12.000000</td>\n",
       "      <td>1992.000000</td>\n",
       "      <td>3.500000</td>\n",
       "      <td>2.300000</td>\n",
       "      <td>9.000000</td>\n",
       "      <td>3.00000</td>\n",
       "      <td>8.000000</td>\n",
       "      <td>8.911572</td>\n",
       "      <td>7.053111</td>\n",
       "    </tr>\n",
       "    <tr>\n",
       "      <th>max</th>\n",
       "      <td>700.000000</td>\n",
       "      <td>1070.000000</td>\n",
       "      <td>1.000000</td>\n",
       "      <td>1400.000000</td>\n",
       "      <td>1344.000000</td>\n",
       "      <td>2012.000000</td>\n",
       "      <td>9.000000</td>\n",
       "      <td>9.000000</td>\n",
       "      <td>15.000000</td>\n",
       "      <td>7.00000</td>\n",
       "      <td>13.000000</td>\n",
       "      <td>12.786043</td>\n",
       "      <td>11.500294</td>\n",
       "    </tr>\n",
       "  </tbody>\n",
       "</table>\n",
       "</div>"
      ],
      "text/plain": [
       "       human VDss (L/kg)  human CL (mL/min/kg)  \\\n",
       "count        1300.000000           1335.000000   \n",
       "mean            3.869653             12.318805   \n",
       "std            20.904023             48.990490   \n",
       "min             0.030000              0.003700   \n",
       "25%             0.300000              1.700000   \n",
       "50%             0.940000              4.700000   \n",
       "75%             2.662500             11.000000   \n",
       "max           700.000000           1070.000000   \n",
       "\n",
       "       fraction unbound \\nin plasma (fu)      MRT (h)  terminal  t1/2 (h)  \\\n",
       "count                         909.000000  1294.000000         1320.000000   \n",
       "mean                            0.345102    17.337489           17.166407   \n",
       "std                             0.340138    74.714819           72.195522   \n",
       "min                             0.000200     0.010000            0.020000   \n",
       "25%                             0.050000     1.745000            1.800000   \n",
       "50%                             0.200000     4.000000            4.410000   \n",
       "75%                             0.650000    11.000000           12.000000   \n",
       "max                             1.000000  1400.000000         1344.000000   \n",
       "\n",
       "       Year of first disclosure    MoKa.LogP  MoKa.LogD7.4          HBA  \\\n",
       "count               1337.000000  1337.000000   1337.000000  1337.000000   \n",
       "mean                1975.336574     1.658139      0.112104     7.178758   \n",
       "std                   23.553966     2.906150      3.362188     3.833968   \n",
       "min                 1878.000000    -9.000000     -9.000000     0.000000   \n",
       "25%                 1963.000000     0.210000     -1.600000     4.000000   \n",
       "50%                 1980.000000     2.000000      0.710000     6.000000   \n",
       "75%                 1992.000000     3.500000      2.300000     9.000000   \n",
       "max                 2012.000000     9.000000      9.000000    15.000000   \n",
       "\n",
       "              HBD  RotBondCount           MW      TPSA_NO  \n",
       "count  1337.00000   1337.000000  1337.000000  1337.000000  \n",
       "mean      2.48018      6.066567     8.609909     6.468858  \n",
       "std       1.96902      3.643865     0.764524     1.170177  \n",
       "min       0.00000      0.000000     5.427606     0.000000  \n",
       "25%       1.00000      3.000000     8.162442     5.889960  \n",
       "50%       2.00000      5.000000     8.533485     6.485427  \n",
       "75%       3.00000      8.000000     8.911572     7.053111  \n",
       "max       7.00000     13.000000    12.786043    11.500294  "
      ]
     },
     "execution_count": 5,
     "metadata": {},
     "output_type": "execute_result"
    }
   ],
   "source": [
    "df.describe()"
   ]
  },
  {
   "cell_type": "markdown",
   "id": "elect-tennis",
   "metadata": {},
   "source": [
    "Check the splitting standard: year of first disclosure."
   ]
  },
  {
   "cell_type": "code",
   "execution_count": 6,
   "id": "gross-geneva",
   "metadata": {},
   "outputs": [
    {
     "data": {
      "text/plain": [
       "<matplotlib.axes._subplots.AxesSubplot at 0x7ff58e71d9d0>"
      ]
     },
     "execution_count": 6,
     "metadata": {},
     "output_type": "execute_result"
    },
    {
     "data": {
      "image/png": "[encoded data removed]",
      "text/plain": [
       "<Figure size 432x288 with 1 Axes>"
      ]
     },
     "metadata": {
      "needs_background": "light"
     },
     "output_type": "display_data"
    }
   ],
   "source": [
    "df[\"Year of first disclosure\"].hist(bins=30)"
   ]
  },
  {
   "cell_type": "code",
   "execution_count": 7,
   "id": "packed-bowling",
   "metadata": {},
   "outputs": [
    {
     "data": {
      "text/plain": [
       "False    1174\n",
       "True      163\n",
       "Name: Year of first disclosure, dtype: int64"
      ]
     },
     "execution_count": 7,
     "metadata": {},
     "output_type": "execute_result"
    }
   ],
   "source": [
    "(df[\"Year of first disclosure\"]>=2000).value_counts()"
   ]
  },
  {
   "cell_type": "markdown",
   "id": "subject-richards",
   "metadata": {},
   "source": [
    "Let's see if the target distribution changes."
   ]
  },
  {
   "cell_type": "code",
   "execution_count": 8,
   "id": "municipal-humanitarian",
   "metadata": {
    "tags": []
   },
   "outputs": [],
   "source": [
    "train_val_df = df.loc[df[\"Year of first disclosure\"]<2000, ]\n",
    "test_df = df.loc[df[\"Year of first disclosure\"]>=2000, ]"
   ]
  },
  {
   "cell_type": "code",
   "execution_count": 9,
   "id": "julian-jesus",
   "metadata": {
    "tags": []
   },
   "outputs": [
    {
     "data": {
      "image/png": "[encoded data removed]",
      "text/plain": [
       "<Figure size 576x288 with 2 Axes>"
      ]
     },
     "metadata": {
      "needs_background": "light"
     },
     "output_type": "display_data"
    }
   ],
   "source": [
    "plt.figure(figsize=(8, 4))\n",
    "for i,tar in enumerate((\"VDss\", \"CL\")):\n",
    "    vals_train = ivpk.data.get_processed_y(\n",
    "        target=tar, \n",
    "        df=train_val_df, \n",
    "    )\n",
    "    vals_test = ivpk.data.get_processed_y(\n",
    "        target=tar, \n",
    "        df=test_df, \n",
    "    )\n",
    "    plt.subplot(1, 2, i+1)\n",
    "    plt.boxplot(np.array([vals_train, vals_test], dtype=object))\n",
    "    plt.xticks(ticks=[1, 2], labels=[\"train\", \"test\"])\n",
    "    plt.title(f\"{tar}\")\n",
    "plt.show()\n"
   ]
  },
  {
   "cell_type": "markdown",
   "id": "overhead-acting",
   "metadata": {},
   "source": [
    "Although mean VDss is higher in test set, overall distribution has no obvious time-dependancy, just as the article concluded:\n",
    "> \"does not seem to indicate any particular trend for the first two properties\"\n",
    "\n",
    "Let's check the X variables."
   ]
  },
  {
   "cell_type": "code",
   "execution_count": 10,
   "id": "accurate-vegetation",
   "metadata": {
    "tags": []
   },
   "outputs": [
    {
     "data": {
      "image/png": "[encoded data removed]",
      "text/plain": [
       "<Figure size 1152x576 with 7 Axes>"
      ]
     },
     "metadata": {
      "needs_background": "light"
     },
     "output_type": "display_data"
    }
   ],
   "source": [
    "x_cols = [\n",
    "    'MW', 'HBA', 'HBD', 'TPSA_NO', 'RotBondCount', \n",
    "    'moka_ionState7.4', 'MoKa.LogP', 'MoKa.LogD7.4'\n",
    "]\n",
    "plt.figure(figsize=(16, 8))\n",
    "for i, colname in enumerate((\n",
    "    'MW', 'HBA', 'HBD', 'TPSA_NO', 'RotBondCount', 'MoKa.LogP', 'MoKa.LogD7.4'\n",
    ")):\n",
    "    vals_train = train_val_df[colname]\n",
    "    vals_test = test_df[colname]\n",
    "    plt.subplot(2, 4, i+1)\n",
    "    plt.boxplot(np.array([vals_train, vals_test], dtype=object))\n",
    "    plt.xticks(ticks=[1, 2], labels=[\"train\", \"test\"])\n",
    "    plt.title(f\"{colname}\")\n",
    "plt.show()"
   ]
  },
  {
   "cell_type": "markdown",
   "id": "little-guard",
   "metadata": {},
   "source": [
    "Trend of molecular weight is higher in test, which also affected HBA and RotBondCount. Distribution of LogD and LogP also increased overtime.  \n",
    "The effect of input drift can be discussed when we **diagnose model performance**."
   ]
  },
  {
   "cell_type": "markdown",
   "id": "optional-shell",
   "metadata": {},
   "source": [
    "Now check the categorical variable \"moka_ionState7.4\". Make sure all 4 classes exist in both train and test."
   ]
  },
  {
   "cell_type": "code",
   "execution_count": 11,
   "id": "developed-jewelry",
   "metadata": {},
   "outputs": [
    {
     "data": {
      "image/png": "[encoded data removed]",
      "text/plain": [
       "<Figure size 576x288 with 2 Axes>"
      ]
     },
     "metadata": {
      "needs_background": "light"
     },
     "output_type": "display_data"
    }
   ],
   "source": [
    "plt.figure(figsize=(8, 4))\n",
    "plt.subplot(121)\n",
    "plt.bar(\n",
    "    x=train_val_df['moka_ionState7.4'].value_counts().index, \n",
    "    height=train_val_df['moka_ionState7.4'].value_counts())\n",
    "plt.title(\"train-val set\")\n",
    "plt.subplot(122)\n",
    "plt.bar(\n",
    "    x=test_df['moka_ionState7.4'].value_counts().index, \n",
    "    height=test_df['moka_ionState7.4'].value_counts())\n",
    "plt.title(\"test set\")\n",
    "plt.show()"
   ]
  },
  {
   "cell_type": "markdown",
   "id": "owned-orange",
   "metadata": {},
   "source": [
    "## Split data\n",
    "\n",
    "First let's split the train_val with the test set. Here I've set a baseline data preprocessing as using Morgan fingerprints at 256 dimension. "
   ]
  },
  {
   "cell_type": "code",
   "execution_count": 12,
   "id": "defined-agenda",
   "metadata": {},
   "outputs": [],
   "source": [
    "fp_args = dict(fpType='morgan', fpSize=256)"
   ]
  },
  {
   "cell_type": "markdown",
   "id": "working-sunglasses",
   "metadata": {},
   "source": [
    "To include the SMILES in later input, we **set x as a 2-element tuple**, first element the 2d array of computed attributes and fingerprints, shape (N, W), dtype float64, second element the array of smiles, shape (N, ), dtype object."
   ]
  },
  {
   "cell_type": "code",
   "execution_count": 13,
   "id": "efficient-lottery",
   "metadata": {},
   "outputs": [],
   "source": [
    "vdss_train_val_x, vdss_train_val_y = ivpk.data.get_x_y(\n",
    "    target='VDss', df=train_val_df, \n",
    "    **fp_args\n",
    ")"
   ]
  },
  {
   "cell_type": "code",
   "execution_count": 14,
   "id": "preceding-colleague",
   "metadata": {},
   "outputs": [
    {
     "name": "stdout",
     "output_type": "stream",
     "text": [
      "(1143, 267) (1143,)\n"
     ]
    }
   ],
   "source": [
    "print(vdss_train_val_x[0].shape, vdss_train_val_x[1].shape)"
   ]
  },
  {
   "cell_type": "code",
   "execution_count": 15,
   "id": "intense-taxation",
   "metadata": {},
   "outputs": [],
   "source": [
    "vdss_test_x, vdss_test_y = ivpk.data.get_x_y(\n",
    "    target='VDss', df=test_df, \n",
    "    **fp_args\n",
    ")"
   ]
  },
  {
   "cell_type": "code",
   "execution_count": 16,
   "id": "legitimate-danish",
   "metadata": {},
   "outputs": [],
   "source": [
    "cl_train_val_x, cl_train_val_y = ivpk.data.get_x_y(\n",
    "    target='CL', df=train_val_df, \n",
    "    **fp_args\n",
    ")"
   ]
  },
  {
   "cell_type": "code",
   "execution_count": 17,
   "id": "fatty-isaac",
   "metadata": {},
   "outputs": [],
   "source": [
    "cl_test_x, cl_test_y = ivpk.data.get_x_y(\n",
    "    target='CL', df=test_df, \n",
    "    **fp_args\n",
    ")"
   ]
  },
  {
   "cell_type": "markdown",
   "id": "subjective-nickel",
   "metadata": {},
   "source": [
    "Let's also split the train-val set at a 8:2 ratio in case K-fold CV is not needed. Here I've **fixed the random state to 42 for reproducibility**."
   ]
  },
  {
   "cell_type": "code",
   "execution_count": 18,
   "id": "dietary-assurance",
   "metadata": {},
   "outputs": [],
   "source": [
    "from sklearn.model_selection import train_test_split"
   ]
  },
  {
   "cell_type": "code",
   "execution_count": 19,
   "id": "peripheral-solid",
   "metadata": {},
   "outputs": [],
   "source": [
    "(\n",
    "    vdss_train_x_0, vdss_val_x_0, vdss_train_x_1, vdss_val_x_1, \n",
    "    vdss_train_y, vdss_val_y\n",
    ") = train_test_split(\n",
    "    vdss_train_val_x[0], vdss_train_val_x[1], vdss_train_val_y, test_size=0.2, random_state=42\n",
    ")"
   ]
  },
  {
   "cell_type": "code",
   "execution_count": 20,
   "id": "outdoor-coating",
   "metadata": {},
   "outputs": [
    {
     "name": "stdout",
     "output_type": "stream",
     "text": [
      "(914, 267)\n",
      "(914,)\n",
      "(914,)\n",
      "(229, 267)\n",
      "(229,)\n",
      "(229,)\n"
     ]
    }
   ],
   "source": [
    "for arr in (\n",
    "    vdss_train_x_0, vdss_train_x_1, vdss_train_y, \n",
    "    vdss_val_x_0, vdss_val_x_1, vdss_val_y\n",
    "):\n",
    "    print(arr.shape)"
   ]
  },
  {
   "cell_type": "code",
   "execution_count": 21,
   "id": "cellular-antique",
   "metadata": {},
   "outputs": [],
   "source": [
    "(\n",
    "    cl_train_x_0, cl_val_x_0, cl_train_x_1, cl_val_x_1, \n",
    "    cl_train_y, cl_val_y\n",
    ") = train_test_split(\n",
    "    cl_train_val_x[0], cl_train_val_x[1], cl_train_val_y, test_size=0.2, random_state=42\n",
    ")"
   ]
  },
  {
   "cell_type": "code",
   "execution_count": 22,
   "id": "conceptual-mirror",
   "metadata": {},
   "outputs": [
    {
     "name": "stdout",
     "output_type": "stream",
     "text": [
      "(938, 267)\n",
      "(938,)\n",
      "(938,)\n",
      "(235, 267)\n",
      "(235,)\n",
      "(235,)\n"
     ]
    }
   ],
   "source": [
    "for arr in (\n",
    "    cl_train_x_0, cl_train_x_1, cl_train_y, \n",
    "    cl_val_x_0, cl_val_x_1, cl_val_y\n",
    "):\n",
    "    print(arr.shape)"
   ]
  },
  {
   "cell_type": "markdown",
   "id": "spare-verification",
   "metadata": {},
   "source": [
    "Wrap the full dataset method."
   ]
  },
  {
   "cell_type": "code",
   "execution_count": 23,
   "id": "covered-startup",
   "metadata": {
    "tags": []
   },
   "outputs": [
    {
     "name": "stdout",
     "output_type": "stream",
     "text": [
      "((938, 523), (938,))\n",
      "(938,)\n",
      "((235, 523), (235,))\n",
      "(235,)\n",
      "((162, 523), (162,))\n",
      "(162,)\n"
     ]
    }
   ],
   "source": [
    "#for arr in ivpk.data.all_datasets(\"VDss\", validation_size=0.4, fpSize=128):\n",
    "#for arr in ivpk.data.all_datasets(\"VDss\", validation_size=None, fpSize=128):\n",
    "#for arr in ivpk.data.all_datasets(\"VDss\", validation_size=0.4, smiles_func=None):\n",
    "for d in ivpk.data.all_datasets(\"CL\", fpType='rdkit', fpSize=512):\n",
    "    if isinstance(d, tuple):\n",
    "        print(f\"({d[0].shape}, {d[1].shape})\")\n",
    "    else:\n",
    "        print(d.shape)\n",
    "            \n"
   ]
  },
  {
   "cell_type": "markdown",
   "id": "finished-ordering",
   "metadata": {},
   "source": [
    "Now let's save the baseline data for easy reuse in modeling experiments."
   ]
  },
  {
   "cell_type": "code",
   "execution_count": 24,
   "id": "computational-potato",
   "metadata": {},
   "outputs": [],
   "source": [
    "import pickle"
   ]
  },
  {
   "cell_type": "code",
   "execution_count": 25,
   "id": "liquid-diesel",
   "metadata": {},
   "outputs": [],
   "source": [
    "with open(\"data/baseline_VDss.pkl\", \"wb\") as f:\n",
    "    pickle.dump(dict(\n",
    "        target = \"VDss\", \n",
    "        x_train = (vdss_train_x_0, vdss_train_x_1), \n",
    "        y_train = vdss_train_y,\n",
    "        x_train_val = vdss_train_val_x, \n",
    "        y_train_val = vdss_train_val_y,\n",
    "        x_val = (vdss_val_x_0, vdss_val_x_1),\n",
    "        y_val = vdss_val_y,\n",
    "        x_test = vdss_test_x, \n",
    "        y_test = vdss_test_y,\n",
    "        **fp_args\n",
    "    ), f)"
   ]
  },
  {
   "cell_type": "code",
   "execution_count": 27,
   "id": "packed-angola",
   "metadata": {},
   "outputs": [],
   "source": [
    "with open(\"data/baseline_CL.pkl\", \"wb\") as f:\n",
    "    pickle.dump(dict(\n",
    "        target = \"CL\", \n",
    "        x_train = (cl_train_x_0, cl_train_x_1), \n",
    "        y_train = cl_train_y,\n",
    "        x_train_val = cl_train_val_x, \n",
    "        y_train_val = vdss_train_val_y,\n",
    "        x_val = (cl_val_x_0, cl_val_x_1),\n",
    "        y_val = cl_val_y,\n",
    "        x_test = cl_test_x, \n",
    "        y_test = cl_test_y,\n",
    "        **fp_args\n",
    "    ), f)"
   ]
  },
  {
   "cell_type": "markdown",
   "id": "honest-milton",
   "metadata": {},
   "source": [
    "Check loading the data from pickle:"
   ]
  },
  {
   "cell_type": "code",
   "execution_count": 28,
   "id": "vietnamese-garden",
   "metadata": {},
   "outputs": [
    {
     "data": {
      "text/plain": [
       "dict_keys(['target', 'x_train', 'y_train', 'x_train_val', 'y_train_val', 'x_val', 'y_val', 'x_test', 'y_test', 'fpType', 'fpSize'])"
      ]
     },
     "execution_count": 28,
     "metadata": {},
     "output_type": "execute_result"
    }
   ],
   "source": [
    "with open(\"data/baseline_CL.pkl\", \"rb\") as f:\n",
    "    data = pickle.load(f)\n",
    "data.keys()"
   ]
  },
  {
   "cell_type": "code",
   "execution_count": 31,
   "id": "individual-tuition",
   "metadata": {},
   "outputs": [
    {
     "name": "stdout",
     "output_type": "stream",
     "text": [
      "target: CL\n",
      "x_train: shape ((938, 267), (938,))\n",
      "y_train: shape (938,)\n",
      "x_train_val: shape ((1173, 267), (1173,))\n",
      "y_train_val: shape (1143,)\n",
      "x_val: shape ((235, 267), (235,))\n",
      "y_val: shape (235,)\n",
      "x_test: shape ((162, 267), (162,))\n",
      "y_test: shape (162,)\n",
      "fpType: morgan\n",
      "fpSize: 256\n"
     ]
    }
   ],
   "source": [
    "for k,v in data.items():\n",
    "    if isinstance(v, np.ndarray):\n",
    "        print(f\"{k}: shape {v.shape}\")\n",
    "    elif isinstance(v, tuple):\n",
    "        print(f\"{k}: shape ({v[0].shape}, {v[1].shape})\")\n",
    "    else:\n",
    "        print(f\"{k}: {v}\")"
   ]
  },
  {
   "cell_type": "markdown",
   "id": "current-roman",
   "metadata": {},
   "source": [
    "If we only want to use physiochemical variables not fingerprints, we can slice the 2darray:"
   ]
  },
  {
   "cell_type": "code",
   "execution_count": 33,
   "id": "indian-smell",
   "metadata": {},
   "outputs": [
    {
     "data": {
      "text/plain": [
       "array([ 0.28979092,  0.21360052, -0.20302163, -0.31521657,  0.33333333,\n",
       "        0.28571429,  0.38461538,  0.        ,  1.        ,  0.        ,\n",
       "        0.        ])"
      ]
     },
     "execution_count": 33,
     "metadata": {},
     "output_type": "execute_result"
    }
   ],
   "source": [
    "cl_train_x_0[0, :-data['fpSize']]"
   ]
  },
  {
   "cell_type": "markdown",
   "id": "radio-synthesis",
   "metadata": {},
   "source": [
    "Test the wrapped file dump method."
   ]
  },
  {
   "cell_type": "code",
   "execution_count": 44,
   "id": "international-munich",
   "metadata": {},
   "outputs": [
    {
     "name": "stdout",
     "output_type": "stream",
     "text": [
      "target: VDss\n",
      "x_train: shape ((571, 11), (571,))\n",
      "y_train: shape (571,)\n",
      "x_val: shape ((572, 11), (572,))\n",
      "y_val: shape (572,)\n",
      "x_test: shape ((157, 11), (157,))\n",
      "y_test: shape (157,)\n",
      "fpType: None\n",
      "fpSize: 0\n"
     ]
    }
   ],
   "source": [
    "fname = \"data/foo.pkl\"\n",
    "\n",
    "#ivpk.data.dump_dataset(fname, target=\"CL\", fpType='morgan', fpSize=512, validation_size=None)\n",
    "ivpk.data.dump_dataset(fname, target=\"VDss\", fpType='morgan', fpSize=512, validation_size=0.5, smiles_func=None)\n",
    "#ivpk.data.dump_dataset(fname, target=\"CL\", fpType='morgan', fpSize=256, validation_size=0.2)\n",
    "with open(fname, \"rb\") as f:\n",
    "    data = pickle.load(f)\n",
    "for k,v in data.items():\n",
    "    if isinstance(v, np.ndarray):\n",
    "        print(f\"{k}: shape {v.shape}\")\n",
    "    elif isinstance(v, tuple):\n",
    "        print(f\"{k}: shape ({v[0].shape}, {v[1].shape})\")\n",
    "    else:\n",
    "        print(f\"{k}: {v}\")"
   ]
  },
  {
   "cell_type": "markdown",
   "id": "portable-replication",
   "metadata": {},
   "source": [
    "With modeling ready data we can start creating some baseline models."
   ]
  }
 ],
 "metadata": {
  "kernelspec": {
   "display_name": "Python 3",
   "language": "python",
   "name": "python3"
  },
  "language_info": {
   "codemirror_mode": {
    "name": "ipython",
    "version": 3
   },
   "file_extension": ".py",
   "mimetype": "text/x-python",
   "name": "python",
   "nbconvert_exporter": "python",
   "pygments_lexer": "ipython3",
   "version": "3.8.8"
  }
 },
 "nbformat": 4,
 "nbformat_minor": 5
}
