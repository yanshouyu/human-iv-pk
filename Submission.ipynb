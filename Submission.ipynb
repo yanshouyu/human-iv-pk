{
 "cells": [
  {
   "cell_type": "markdown",
   "id": "binary-bride",
   "metadata": {},
   "source": [
    "As we've selected the best model we can make submission on test data. Result visualization and model interpretation (e.g. feature importance) can also be explored here."
   ]
  },
  {
   "cell_type": "code",
   "execution_count": 1,
   "id": "isolated-brush",
   "metadata": {},
   "outputs": [],
   "source": [
    "import numpy as np\n",
    "import pandas as pd\n",
    "import pickle\n",
    "import torch\n",
    "from sklearn.metrics import mean_absolute_error\n",
    "from scipy.stats import pearsonr\n",
    "import matplotlib.pyplot as plt\n",
    "%matplotlib inline"
   ]
  },
  {
   "cell_type": "code",
   "execution_count": 2,
   "id": "indirect-voltage",
   "metadata": {},
   "outputs": [
    {
     "name": "stderr",
     "output_type": "stream",
     "text": [
      "RDKit WARNING: [18:04:42] Enabling RDKit 2019.09.3 jupyter extensions\n"
     ]
    }
   ],
   "source": [
    "%load_ext autoreload\n",
    "%autoreload 2\n",
    "import ivpk"
   ]
  },
  {
   "cell_type": "markdown",
   "id": "periodic-wright",
   "metadata": {},
   "source": [
    "## VDss\n",
    "\n",
    "The best model we choose is `models/GridSearchCV/VDss_rfreg_gridsearch.pkl`"
   ]
  },
  {
   "cell_type": "code",
   "execution_count": 3,
   "id": "hydraulic-stephen",
   "metadata": {},
   "outputs": [],
   "source": [
    "target = \"VDss\"\n",
    "model_path = \"models/GridSearchCV/VDss_rfreg_gridsearch.pkl\""
   ]
  },
  {
   "cell_type": "markdown",
   "id": "informative-italy",
   "metadata": {},
   "source": [
    "#### Data"
   ]
  },
  {
   "cell_type": "code",
   "execution_count": 4,
   "id": "numeric-bandwidth",
   "metadata": {},
   "outputs": [],
   "source": [
    "(x_train, x_train_smiles), y_train, (x_test, x_smiles), y_test = ivpk.data.all_datasets(\n",
    "    target=target, \n",
    "    validation_size=None, \n",
    ")"
   ]
  },
  {
   "cell_type": "markdown",
   "id": "lonely-thermal",
   "metadata": {},
   "source": [
    "#### Model"
   ]
  },
  {
   "cell_type": "code",
   "execution_count": 5,
   "id": "selective-referral",
   "metadata": {},
   "outputs": [],
   "source": [
    "with open(model_path, \"rb\") as f:\n",
    "    model = pickle.load(f)"
   ]
  },
  {
   "cell_type": "code",
   "execution_count": 6,
   "id": "aware-arrow",
   "metadata": {},
   "outputs": [],
   "source": [
    "vdss_train = pd.DataFrame({    \n",
    "    \"SMILES\": x_train_smiles, \n",
    "    \"log2VDss\": y_train, \n",
    "    \"log2VDss_pred\": model.predict(x_train), \n",
    "})\n",
    "vdss_train.to_csv(\"results/VDss_train.csv\")"
   ]
  },
  {
   "cell_type": "markdown",
   "id": "grave-model",
   "metadata": {},
   "source": [
    "#### Prediction"
   ]
  },
  {
   "cell_type": "code",
   "execution_count": 7,
   "id": "configured-skating",
   "metadata": {},
   "outputs": [],
   "source": [
    "y_test_pred = model.predict(x_test)"
   ]
  },
  {
   "cell_type": "code",
   "execution_count": 8,
   "id": "passive-plumbing",
   "metadata": {},
   "outputs": [
    {
     "name": "stdout",
     "output_type": "stream",
     "text": [
      "\n",
      "MAE: 1.3807894570595374, \n",
      "Pearsonr: (0.5748365540229746, 3.4667784605021914e-15)\n",
      "\n"
     ]
    }
   ],
   "source": [
    "print(f\"\"\"\n",
    "MAE: {mean_absolute_error(y_test, y_test_pred)}, \n",
    "Pearsonr: {pearsonr(y_test, y_test_pred)}\n",
    "\"\"\")"
   ]
  },
  {
   "cell_type": "markdown",
   "id": "moral-resident",
   "metadata": {},
   "source": [
    "#### Table for submission"
   ]
  },
  {
   "cell_type": "code",
   "execution_count": 9,
   "id": "contained-withdrawal",
   "metadata": {},
   "outputs": [],
   "source": [
    "vdss_pred = pd.DataFrame({    \n",
    "    \"SMILES\": x_smiles, \n",
    "    \"log2VDss\": y_test, \n",
    "    \"log2VDss_pred\": y_test_pred, \n",
    "})"
   ]
  },
  {
   "cell_type": "code",
   "execution_count": 10,
   "id": "consecutive-example",
   "metadata": {},
   "outputs": [
    {
     "data": {
      "text/html": [
       "<div>\n",
       "<style scoped>\n",
       "    .dataframe tbody tr th:only-of-type {\n",
       "        vertical-align: middle;\n",
       "    }\n",
       "\n",
       "    .dataframe tbody tr th {\n",
       "        vertical-align: top;\n",
       "    }\n",
       "\n",
       "    .dataframe thead th {\n",
       "        text-align: right;\n",
       "    }\n",
       "</style>\n",
       "<table border=\"1\" class=\"dataframe\">\n",
       "  <thead>\n",
       "    <tr style=\"text-align: right;\">\n",
       "      <th></th>\n",
       "      <th>SMILES</th>\n",
       "      <th>log2VDss</th>\n",
       "      <th>log2VDss_pred</th>\n",
       "    </tr>\n",
       "  </thead>\n",
       "  <tbody>\n",
       "    <tr>\n",
       "      <th>0</th>\n",
       "      <td>[H]N([H])c1c2c(c3ccccc3n1)n(CCCCN([H])S(C)(=O)...</td>\n",
       "      <td>1.632268</td>\n",
       "      <td>0.964770</td>\n",
       "    </tr>\n",
       "    <tr>\n",
       "      <th>1</th>\n",
       "      <td>CN(C)Cc1c2ccccc2oc1C(=O)NCCOc3ccc(cc3)C(=O)NO</td>\n",
       "      <td>1.378512</td>\n",
       "      <td>0.117602</td>\n",
       "    </tr>\n",
       "    <tr>\n",
       "      <th>2</th>\n",
       "      <td>c1ccc(cc1)OCCC[N+]23CCC(CC2)[C@H](C3)OC(=O)C(c...</td>\n",
       "      <td>2.104337</td>\n",
       "      <td>0.201755</td>\n",
       "    </tr>\n",
       "    <tr>\n",
       "      <th>3</th>\n",
       "      <td>Cc1c2ccccc2oc1CN(C)C(=O)/C=C/c3cc4c(nc3)NC(=O)CC4</td>\n",
       "      <td>-1.217591</td>\n",
       "      <td>0.128100</td>\n",
       "    </tr>\n",
       "    <tr>\n",
       "      <th>4</th>\n",
       "      <td>CCc1cc2c(cc1N3CCC(CC3)N4CCOCC4)C(c5c(c6ccc(cc6...</td>\n",
       "      <td>2.666757</td>\n",
       "      <td>1.580203</td>\n",
       "    </tr>\n",
       "  </tbody>\n",
       "</table>\n",
       "</div>"
      ],
      "text/plain": [
       "                                              SMILES  log2VDss  log2VDss_pred\n",
       "0  [H]N([H])c1c2c(c3ccccc3n1)n(CCCCN([H])S(C)(=O)...  1.632268       0.964770\n",
       "1      CN(C)Cc1c2ccccc2oc1C(=O)NCCOc3ccc(cc3)C(=O)NO  1.378512       0.117602\n",
       "2  c1ccc(cc1)OCCC[N+]23CCC(CC2)[C@H](C3)OC(=O)C(c...  2.104337       0.201755\n",
       "3  Cc1c2ccccc2oc1CN(C)C(=O)/C=C/c3cc4c(nc3)NC(=O)CC4 -1.217591       0.128100\n",
       "4  CCc1cc2c(cc1N3CCC(CC3)N4CCOCC4)C(c5c(c6ccc(cc6...  2.666757       1.580203"
      ]
     },
     "execution_count": 10,
     "metadata": {},
     "output_type": "execute_result"
    }
   ],
   "source": [
    "vdss_pred.head()"
   ]
  },
  {
   "cell_type": "code",
   "execution_count": 11,
   "id": "exterior-china",
   "metadata": {},
   "outputs": [],
   "source": [
    "vdss_pred.to_csv(\"submission/VDss.csv\")"
   ]
  },
  {
   "cell_type": "markdown",
   "id": "fallen-opera",
   "metadata": {},
   "source": [
    "## CL\n",
    "\n",
    "The best model we choose is `models/CL_mlp.pkl`."
   ]
  },
  {
   "cell_type": "code",
   "execution_count": 12,
   "id": "paperback-formation",
   "metadata": {},
   "outputs": [],
   "source": [
    "target = \"CL\"\n",
    "model_path = \"models/CL_mlp.pkl\""
   ]
  },
  {
   "cell_type": "markdown",
   "id": "complete-kennedy",
   "metadata": {},
   "source": [
    "#### Data\n",
    "\n",
    "For MLP models, we need additional data transformation."
   ]
  },
  {
   "cell_type": "code",
   "execution_count": 13,
   "id": "ruled-guide",
   "metadata": {
    "tags": []
   },
   "outputs": [],
   "source": [
    "(x_train, x_train_smiles), y_train, (x_test, x_smiles), y_test = ivpk.data.all_datasets(\n",
    "    target=target, \n",
    "    validation_size=None, \n",
    ")\n",
    "x_train = x_train.astype(np.float32)\n",
    "x_test = x_test.astype(np.float32)"
   ]
  },
  {
   "cell_type": "markdown",
   "id": "maritime-joyce",
   "metadata": {},
   "source": [
    "#### Model"
   ]
  },
  {
   "cell_type": "code",
   "execution_count": 14,
   "id": "abroad-conference",
   "metadata": {},
   "outputs": [],
   "source": [
    "with open(model_path, \"rb\") as f:\n",
    "    model = pickle.load(f)"
   ]
  },
  {
   "cell_type": "code",
   "execution_count": 15,
   "id": "involved-heart",
   "metadata": {},
   "outputs": [],
   "source": [
    "cl_train = pd.DataFrame({    \n",
    "    \"SMILES\": x_train_smiles, \n",
    "    \"log2CL\": y_train, \n",
    "    \"log2CL_pred\": model.predict(x_train).reshape(-1), \n",
    "})\n",
    "cl_train.to_csv(\"results/CL_train.csv\")"
   ]
  },
  {
   "cell_type": "markdown",
   "id": "reduced-company",
   "metadata": {},
   "source": [
    "#### Prediction"
   ]
  },
  {
   "cell_type": "code",
   "execution_count": 16,
   "id": "material-brush",
   "metadata": {},
   "outputs": [],
   "source": [
    "y_test_pred = model.predict(x_test).reshape(-1)"
   ]
  },
  {
   "cell_type": "code",
   "execution_count": 17,
   "id": "fallen-gauge",
   "metadata": {},
   "outputs": [
    {
     "name": "stdout",
     "output_type": "stream",
     "text": [
      "\n",
      "MAE: 1.4893762602600475, \n",
      "Pearsonr: (0.2893017110478897, 0.00018856564400894838)\n",
      "\n"
     ]
    }
   ],
   "source": [
    "print(f\"\"\"\n",
    "MAE: {mean_absolute_error(y_test, y_test_pred)}, \n",
    "Pearsonr: {pearsonr(y_test, y_test_pred)}\n",
    "\"\"\")"
   ]
  },
  {
   "cell_type": "markdown",
   "id": "marine-corrections",
   "metadata": {},
   "source": [
    "#### Table for submission"
   ]
  },
  {
   "cell_type": "code",
   "execution_count": 18,
   "id": "allied-minutes",
   "metadata": {},
   "outputs": [],
   "source": [
    "cl_pred = pd.DataFrame({    \n",
    "    \"SMILES\": x_smiles, \n",
    "    \"log2CL\": y_test, \n",
    "    \"log2CL_pred\": y_test_pred, \n",
    "})"
   ]
  },
  {
   "cell_type": "code",
   "execution_count": 19,
   "id": "flush-advertiser",
   "metadata": {},
   "outputs": [],
   "source": [
    "cl_pred.to_csv(\"submission/CL.csv\")"
   ]
  },
  {
   "cell_type": "markdown",
   "id": "polyphonic-circle",
   "metadata": {},
   "source": [
    "## Visualization"
   ]
  },
  {
   "cell_type": "code",
   "execution_count": 15,
   "id": "municipal-sacramento",
   "metadata": {},
   "outputs": [
    {
     "name": "stderr",
     "output_type": "stream",
     "text": [
      "RDKit WARNING: [10:43:14] Enabling RDKit 2019.09.3 jupyter extensions\n"
     ]
    }
   ],
   "source": [
    "import numpy as np\n",
    "import pandas as pd\n",
    "from sklearn.metrics import mean_absolute_error\n",
    "from scipy.stats import pearsonr\n",
    "import matplotlib.pyplot as plt\n",
    "%matplotlib inline\n",
    "import pickle\n",
    "%load_ext autoreload\n",
    "%autoreload 2\n",
    "import ivpk"
   ]
  },
  {
   "cell_type": "code",
   "execution_count": 2,
   "id": "removed-galaxy",
   "metadata": {},
   "outputs": [],
   "source": [
    "vdss = pd.read_csv(\"submission/VDss.csv\", index_col=0)\n",
    "cl = pd.read_csv(\"submission/CL.csv\", index_col=0)"
   ]
  },
  {
   "cell_type": "code",
   "execution_count": 3,
   "id": "available-habitat",
   "metadata": {},
   "outputs": [],
   "source": [
    "def plot_pred(df, x_col, y_col):\n",
    "    \"scatter plot of the predicted value\"\n",
    "    min_val = np.min(np.array(df[[x_col, y_col]]))\n",
    "    max_val = np.max(np.array(df[[x_col, y_col]]))\n",
    "    interval = max_val - min_val\n",
    "    lims = (\n",
    "        np.floor(min_val - 0.05*interval), \n",
    "        np.ceil(max_val + 0.05*interval)\n",
    "    )\n",
    "    plt.plot(df[x_col], df[y_col], \".\")\n",
    "    plt.xlim(lims)\n",
    "    plt.ylim(lims)\n",
    "    plt.xlabel(f\"{x_col}\")\n",
    "    plt.ylabel(f\"{y_col}\")\n",
    "    mae = mean_absolute_error(df[x_col], df[y_col])\n",
    "    pear = pearsonr(df[x_col], df[y_col])[0]\n",
    "    plt.title(f\"MAE: {mae:.3f} Pearsonr: {pear:.3f}\")"
   ]
  },
  {
   "cell_type": "code",
   "execution_count": 4,
   "id": "rational-ceramic",
   "metadata": {},
   "outputs": [
    {
     "data": {
      "image/png": "[encoded data removed]",
      "text/plain": [
       "<Figure size 432x432 with 1 Axes>"
      ]
     },
     "metadata": {
      "needs_background": "light"
     },
     "output_type": "display_data"
    }
   ],
   "source": [
    "plt.figure(figsize=(6, 6))\n",
    "plot_pred(vdss, \"log2VDss\", \"log2VDss_pred\")\n",
    "plt.savefig(\"figures/VDss_testset.png\")"
   ]
  },
  {
   "cell_type": "markdown",
   "id": "increased-shopper",
   "metadata": {},
   "source": [
    "Still a large space of improvement."
   ]
  },
  {
   "cell_type": "code",
   "execution_count": 5,
   "id": "based-jurisdiction",
   "metadata": {},
   "outputs": [
    {
     "data": {
      "image/png": "[encoded data removed]",
      "text/plain": [
       "<Figure size 432x432 with 1 Axes>"
      ]
     },
     "metadata": {
      "needs_background": "light"
     },
     "output_type": "display_data"
    }
   ],
   "source": [
    "plt.figure(figsize=(6, 6))\n",
    "plot_pred(cl, \"log2CL\", \"log2CL_pred\")\n",
    "plt.savefig(\"figures/CL_testset.png\")"
   ]
  },
  {
   "cell_type": "markdown",
   "id": "applicable-cemetery",
   "metadata": {},
   "source": [
    "Clearly the CL model is a high-bias one which didn't learnt much."
   ]
  },
  {
   "cell_type": "markdown",
   "id": "capable-validation",
   "metadata": {},
   "source": [
    "## Model analysis\n",
    "\n",
    "This part we focus on VDss model."
   ]
  },
  {
   "cell_type": "code",
   "execution_count": 3,
   "id": "spiritual-creator",
   "metadata": {},
   "outputs": [],
   "source": [
    "with open(\"models/GridSearchCV/VDss_rfreg_gridsearch.pkl\", \"rb\") as f:\n",
    "    model = pickle.load(f)"
   ]
  },
  {
   "cell_type": "markdown",
   "id": "median-trance",
   "metadata": {},
   "source": [
    "#### Feature importance"
   ]
  },
  {
   "cell_type": "code",
   "execution_count": 9,
   "id": "naval-addition",
   "metadata": {},
   "outputs": [
    {
     "data": {
      "text/plain": [
       "RandomForestRegressor(criterion='mae', max_features=0.2)"
      ]
     },
     "execution_count": 9,
     "metadata": {},
     "output_type": "execute_result"
    }
   ],
   "source": [
    "model.best_estimator_"
   ]
  },
  {
   "cell_type": "code",
   "execution_count": 10,
   "id": "coral-settle",
   "metadata": {},
   "outputs": [
    {
     "data": {
      "image/png": "[encoded data removed]",
      "text/plain": [
       "<Figure size 432x288 with 1 Axes>"
      ]
     },
     "metadata": {
      "needs_background": "light"
     },
     "output_type": "display_data"
    }
   ],
   "source": [
    "plt.hist(model.best_estimator_.feature_importances_, bins=50)\n",
    "plt.show()"
   ]
  },
  {
   "cell_type": "markdown",
   "id": "large-store",
   "metadata": {},
   "source": [
    "Only a small proportion of features have high importance. Let's see which are they."
   ]
  },
  {
   "cell_type": "code",
   "execution_count": 4,
   "id": "informal-algeria",
   "metadata": {},
   "outputs": [
    {
     "data": {
      "text/plain": [
       "array([  0,   1,   2,   3,   4,   5,   6,   7,   8,   9, 149])"
      ]
     },
     "execution_count": 4,
     "metadata": {},
     "output_type": "execute_result"
    }
   ],
   "source": [
    "important_ids = np.where(model.best_estimator_.feature_importances_>0.01)[0]\n",
    "important_ids"
   ]
  },
  {
   "cell_type": "code",
   "execution_count": 12,
   "id": "caring-opening",
   "metadata": {},
   "outputs": [
    {
     "data": {
      "text/plain": [
       "array([0.05280533, 0.06635149, 0.02980465, 0.05283362, 0.02600196,\n",
       "       0.02080696, 0.01759086, 0.07129605, 0.06012984, 0.01919435,\n",
       "       0.01134635])"
      ]
     },
     "execution_count": 12,
     "metadata": {},
     "output_type": "execute_result"
    }
   ],
   "source": [
    "model.best_estimator_.feature_importances_[important_ids]"
   ]
  },
  {
   "cell_type": "markdown",
   "id": "natural-jesus",
   "metadata": {},
   "source": [
    "Clearly, the physiochemical properties are very important."
   ]
  },
  {
   "cell_type": "markdown",
   "id": "subtle-context",
   "metadata": {},
   "source": [
    "There is one bit in morgan256 whose importance is larger than 0.01. \n",
    "\n",
    "Note that the bit position 138 is 0-based. `fp.GetBit(0)` tells us if the first bit is on or off."
   ]
  },
  {
   "cell_type": "markdown",
   "id": "substantial-import",
   "metadata": {},
   "source": [
    "Let's plot the feature importance."
   ]
  },
  {
   "cell_type": "code",
   "execution_count": 16,
   "id": "coupled-kruger",
   "metadata": {},
   "outputs": [
    {
     "data": {
      "text/plain": [
       "[('stdscl', StandardScaler(), ['MoKa.LogP', 'MoKa.LogD7.4', 'MW', 'TPSA_NO']),\n",
       " ('minmax', MinMaxScaler(), ['HBA', 'HBD', 'RotBondCount']),\n",
       " ('onehot',\n",
       "  OneHotEncoder(categories=[['anionic', 'cationic', 'neutral', 'zwitterionic']],\n",
       "                handle_unknown='ignore'),\n",
       "  ['moka_ionState7.4']),\n",
       " ('remainder', 'drop', [0, 1, 2, 3, 4, 5, 6, 7])]"
      ]
     },
     "execution_count": 16,
     "metadata": {},
     "output_type": "execute_result"
    }
   ],
   "source": [
    "ivpk.data.x_preprocessor.transformers_"
   ]
  },
  {
   "cell_type": "code",
   "execution_count": 5,
   "id": "golden-scroll",
   "metadata": {},
   "outputs": [
    {
     "name": "stdout",
     "output_type": "stream",
     "text": [
      "['MoKa.LogP', 'MoKa.LogD7.4', 'MW', 'TPSA_NO', 'HBA', 'HBD', 'RotBondCount', 'anionic', 'cationic', 'neutral', 'zwitterionic', 'bit138(morgan256)'] \n",
      " [  0   1   2   3   4   5   6   7   8   9  10 149]\n"
     ]
    }
   ],
   "source": [
    "property_columns = (\n",
    "    ivpk.data.x_preprocessor.transformers_[0][2] + \n",
    "    ivpk.data.x_preprocessor.transformers_[1][2] + \n",
    "    ivpk.data.x_preprocessor.transformers_[2][1].categories_[0].tolist()\n",
    ")\n",
    "# add the bit feature\n",
    "property_positions = np.concatenate((np.arange(len(property_columns)), [important_ids[-1]]))\n",
    "property_columns += ['bit138(morgan256)']\n",
    "print(property_columns, \"\\n\", property_positions)"
   ]
  },
  {
   "cell_type": "code",
   "execution_count": 7,
   "id": "incredible-yorkshire",
   "metadata": {},
   "outputs": [
    {
     "data": {
      "image/png": "[encoded data removed]",
      "text/plain": [
       "<Figure size 576x432 with 1 Axes>"
      ]
     },
     "metadata": {
      "needs_background": "light"
     },
     "output_type": "display_data"
    }
   ],
   "source": [
    "plt.figure(figsize=(8, 6))\n",
    "plt.barh(\n",
    "    np.arange(len(property_columns)), \n",
    "    width=model.best_estimator_.feature_importances_[property_positions]\n",
    ")\n",
    "plt.yticks(np.arange(len(property_columns)), property_columns)\n",
    "plt.title(\"Feature importance - VDss - RFreg\")\n",
    "plt.savefig(\"figures/VDss_feature_importance.png\", bbox_inches=\"tight\")"
   ]
  },
  {
   "cell_type": "markdown",
   "id": "weekly-chapter",
   "metadata": {},
   "source": [
    "The reason \"zwitterionic\" is not as important might be its small sample size."
   ]
  },
  {
   "cell_type": "markdown",
   "id": "spectacular-metro",
   "metadata": {},
   "source": [
    "#### Highlight bit 138\n",
    "\n",
    "Now we can try highlight this bit 138 in compound image, following [RDkit fingerprint instruction](https://www.rdkit.org/docs/GettingStartedInPython.html#generating-images-of-fingerprint-bits) and [RDkit Draw instruction](https://www.rdkit.org/docs/GettingStartedInPython.html#drawing-molecules). The wrapped method is `ivpk.plots.draw_highlighted_bit`."
   ]
  },
  {
   "cell_type": "code",
   "execution_count": 9,
   "id": "manufactured-absence",
   "metadata": {},
   "outputs": [
    {
     "name": "stdout",
     "output_type": "stream",
     "text": [
      "Fosfluconazole OP(=O)(O)OC(Cn1cncn1)(Cn2cncn2)c3ccc(F)cc3F\n"
     ]
    }
   ],
   "source": [
    "name, smiles = ivpk.data.pruned_df[[\"Name\", \"SMILES\"]].sample().to_numpy()[0]\n",
    "print(name, smiles)"
   ]
  },
  {
   "cell_type": "code",
   "execution_count": 10,
   "id": "pointed-filter",
   "metadata": {},
   "outputs": [],
   "source": [
    "bit = 138\n",
    "nBits = 256\n",
    "ivpk.plots.draw_highlighted_bit(\n",
    "    fname=f\"figures/highlight_FP/{name}_bit{bit}_morgan{nBits}.png\", \n",
    "    mol=smiles, bit=bit, nBits=nBits\n",
    ")"
   ]
  },
  {
   "cell_type": "markdown",
   "id": "confused-messaging",
   "metadata": {},
   "source": [
    "#### Hard samples\n",
    "\n",
    "Let's examine which samples are hard to predict. Here we should first take a look at the train-val set."
   ]
  },
  {
   "cell_type": "code",
   "execution_count": 42,
   "id": "obvious-techno",
   "metadata": {},
   "outputs": [],
   "source": [
    "raw_df = ivpk.data.raw_df.set_index(\"SMILES\")\n",
    "vdss_train = pd.read_csv(\"results/VDss_train.csv\", index_col=0).set_index(\"SMILES\")\n",
    "cl_train = pd.read_csv(\"results/CL_train.csv\", index_col=0).set_index(\"SMILES\")"
   ]
  },
  {
   "cell_type": "code",
   "execution_count": 43,
   "id": "expensive-croatia",
   "metadata": {},
   "outputs": [],
   "source": [
    "hard_train_vdss = vdss_train.loc[((vdss_train.log2VDss - vdss_train.log2VDss_pred).apply(abs) > 1), :]\n",
    "hard_train_vdss.join(raw_df).to_csv(\"results/VDss_hard_train.csv\")"
   ]
  },
  {
   "cell_type": "code",
   "execution_count": 44,
   "id": "romance-intake",
   "metadata": {},
   "outputs": [],
   "source": [
    "hard_train_cl = cl_train.loc[((cl_train.log2CL - cl_train.log2CL_pred).apply(abs) > 1), :]\n",
    "hard_train_cl.join(raw_df).to_csv(\"results/CL_hard_train.csv\")"
   ]
  },
  {
   "cell_type": "code",
   "execution_count": 45,
   "id": "dangerous-horse",
   "metadata": {},
   "outputs": [],
   "source": [
    "hard_vdss = vdss.loc[((vdss.log2VDss - vdss.log2VDss_pred).apply(abs) > 1), :]\n",
    "hard_vdss.join(raw_df).to_csv(\"results/VDss_hard_test.csv\")"
   ]
  },
  {
   "cell_type": "code",
   "execution_count": 46,
   "id": "adapted-assumption",
   "metadata": {},
   "outputs": [],
   "source": [
    "hard_cl = cl.loc[((cl.log2CL - cl.log2CL_pred).apply(abs) > 1), :]\n",
    "hard_cl.join(raw_df).to_csv(\"results/CL_hard_test.csv\")"
   ]
  },
  {
   "cell_type": "markdown",
   "id": "ahead-coordinator",
   "metadata": {},
   "source": [
    "---"
   ]
  }
 ],
 "metadata": {
  "interpreter": {
   "hash": "bef08d333d8e83100e76baf7a20c87b4db783c5ee109790e906da389d24d1019"
  },
  "kernelspec": {
   "display_name": "Python 3",
   "language": "python",
   "name": "python3"
  },
  "language_info": {
   "codemirror_mode": {
    "name": "ipython",
    "version": 3
   },
   "file_extension": ".py",
   "mimetype": "text/x-python",
   "name": "python",
   "nbconvert_exporter": "python",
   "pygments_lexer": "ipython3",
   "version": "3.8.8"
  }
 },
 "nbformat": 4,
 "nbformat_minor": 5
}
