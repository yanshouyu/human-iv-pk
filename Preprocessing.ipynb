{
 "cells": [
  {
   "cell_type": "markdown",
   "id": "intermediate-affairs",
   "metadata": {},
   "source": [
    "After a basic EDA here let's move on to preprocessing the raw data. In this notebook I'll explore data transformation toward modeling ready format. I'll leave the train-val-test split in next notebook."
   ]
  },
  {
   "cell_type": "code",
   "execution_count": 1,
   "id": "nonprofit-economy",
   "metadata": {},
   "outputs": [
    {
     "name": "stderr",
     "output_type": "stream",
     "text": [
      "RDKit WARNING: [11:18:34] Enabling RDKit 2019.09.3 jupyter extensions\n"
     ]
    }
   ],
   "source": [
    "import numpy as np\n",
    "import pandas as pd\n",
    "import matplotlib.pyplot as plt\n",
    "import seaborn as sns\n",
    "%matplotlib inline\n",
    "from rdkit import Chem\n",
    "from rdkit.Chem.Draw import IPythonConsole\n",
    "from rdkit.Chem import Draw"
   ]
  },
  {
   "cell_type": "code",
   "execution_count": 2,
   "id": "chinese-sentence",
   "metadata": {},
   "outputs": [],
   "source": [
    "# package for this project\n",
    "%load_ext autoreload\n",
    "%autoreload 2\n",
    "import ivpk"
   ]
  },
  {
   "cell_type": "markdown",
   "id": "developing-noise",
   "metadata": {},
   "source": [
    "## Data Pruning\n",
    "\n",
    "This part we're going to remove certain info columns and invalid rows."
   ]
  },
  {
   "cell_type": "code",
   "execution_count": 3,
   "id": "insured-boost",
   "metadata": {
    "tags": []
   },
   "outputs": [],
   "source": [
    "from ivpk.data import process_log2, upper_clip_outliers, get_pruned_df\n",
    "df = process_log2(upper_clip_outliers(get_pruned_df()))"
   ]
  },
  {
   "cell_type": "code",
   "execution_count": 4,
   "id": "awful-serial",
   "metadata": {},
   "outputs": [
    {
     "data": {
      "text/plain": [
       "(1337, 16)"
      ]
     },
     "execution_count": 4,
     "metadata": {},
     "output_type": "execute_result"
    }
   ],
   "source": [
    "df.shape"
   ]
  },
  {
   "cell_type": "code",
   "execution_count": 5,
   "id": "pleasant-ballot",
   "metadata": {},
   "outputs": [
    {
     "data": {
      "text/html": [
       "<div>\n",
       "<style scoped>\n",
       "    .dataframe tbody tr th:only-of-type {\n",
       "        vertical-align: middle;\n",
       "    }\n",
       "\n",
       "    .dataframe tbody tr th {\n",
       "        vertical-align: top;\n",
       "    }\n",
       "\n",
       "    .dataframe thead th {\n",
       "        text-align: right;\n",
       "    }\n",
       "</style>\n",
       "<table border=\"1\" class=\"dataframe\">\n",
       "  <thead>\n",
       "    <tr style=\"text-align: right;\">\n",
       "      <th></th>\n",
       "      <th>Name</th>\n",
       "      <th>SMILES</th>\n",
       "      <th>human VDss (L/kg)</th>\n",
       "      <th>human CL (mL/min/kg)</th>\n",
       "      <th>fraction unbound \\nin plasma (fu)</th>\n",
       "      <th>MRT (h)</th>\n",
       "      <th>terminal  t1/2 (h)</th>\n",
       "      <th>Year of first disclosure</th>\n",
       "      <th>moka_ionState7.4</th>\n",
       "      <th>MoKa.LogP</th>\n",
       "      <th>MoKa.LogD7.4</th>\n",
       "      <th>HBA</th>\n",
       "      <th>HBD</th>\n",
       "      <th>RotBondCount</th>\n",
       "      <th>MW</th>\n",
       "      <th>TPSA_NO</th>\n",
       "    </tr>\n",
       "  </thead>\n",
       "  <tbody>\n",
       "    <tr>\n",
       "      <th>0</th>\n",
       "      <td>α-hANP</td>\n",
       "      <td>N1[C@H](C(=O)N[C@H](C(=O)N[C@H](C(=O)N[C@H](C(...</td>\n",
       "      <td>0.2</td>\n",
       "      <td>25.4</td>\n",
       "      <td>NaN</td>\n",
       "      <td>0.13</td>\n",
       "      <td>0.22</td>\n",
       "      <td>1982</td>\n",
       "      <td>cationic</td>\n",
       "      <td>-9.0</td>\n",
       "      <td>-9.0</td>\n",
       "      <td>15</td>\n",
       "      <td>7</td>\n",
       "      <td>13</td>\n",
       "      <td>11.589389</td>\n",
       "      <td>10.455738</td>\n",
       "    </tr>\n",
       "  </tbody>\n",
       "</table>\n",
       "</div>"
      ],
      "text/plain": [
       "     Name                                             SMILES  \\\n",
       "0  α-hANP  N1[C@H](C(=O)N[C@H](C(=O)N[C@H](C(=O)N[C@H](C(...   \n",
       "\n",
       "   human VDss (L/kg)  human CL (mL/min/kg)  fraction unbound \\nin plasma (fu)  \\\n",
       "0                0.2                  25.4                                NaN   \n",
       "\n",
       "   MRT (h)  terminal  t1/2 (h)  Year of first disclosure moka_ionState7.4  \\\n",
       "0     0.13                0.22                      1982         cationic   \n",
       "\n",
       "   MoKa.LogP  MoKa.LogD7.4  HBA  HBD  RotBondCount         MW    TPSA_NO  \n",
       "0       -9.0          -9.0   15    7            13  11.589389  10.455738  "
      ]
     },
     "execution_count": 5,
     "metadata": {},
     "output_type": "execute_result"
    }
   ],
   "source": [
    "df.head(1)"
   ]
  },
  {
   "cell_type": "markdown",
   "id": "incident-possible",
   "metadata": {},
   "source": [
    "## X variables - computed physiochemical values\n",
    "\n",
    "X strategy summary:\n",
    "- Standard scale\n",
    "    - 'MoKa.LogP', 'MoKa.LogD7.4'\n",
    "- Upper-clipping & min-max scale\n",
    "    - 'HBA', 'HBD', 'RotBondCount'\n",
    "- Log2(value+1) & standard scale\n",
    "    - 'MW', 'TPSA_NO'\n",
    "- One-hot encoding\n",
    "    - 'moka_ionState7.4'\n",
    "    \n",
    "Note that MOKA related features have missing values in raw data."
   ]
  },
  {
   "cell_type": "code",
   "execution_count": 6,
   "id": "soviet-mercury",
   "metadata": {},
   "outputs": [],
   "source": [
    "proc_x = ivpk.data.proc_x"
   ]
  },
  {
   "cell_type": "code",
   "execution_count": 7,
   "id": "protected-jefferson",
   "metadata": {},
   "outputs": [
    {
     "data": {
      "text/plain": [
       "(1337, 11)"
      ]
     },
     "execution_count": 7,
     "metadata": {},
     "output_type": "execute_result"
    }
   ],
   "source": [
    "proc_x.shape"
   ]
  },
  {
   "cell_type": "code",
   "execution_count": 8,
   "id": "signal-dividend",
   "metadata": {},
   "outputs": [
    {
     "data": {
      "text/plain": [
       "array([-3.66881515, -2.71118509,  3.89862833,  3.40834843,  1.        ,\n",
       "        1.        ,  1.        ,  0.        ,  1.        ,  0.        ,\n",
       "        0.        ])"
      ]
     },
     "execution_count": 8,
     "metadata": {},
     "output_type": "execute_result"
    }
   ],
   "source": [
    "proc_x[0]"
   ]
  },
  {
   "cell_type": "code",
   "execution_count": 9,
   "id": "intimate-activation",
   "metadata": {},
   "outputs": [
    {
     "data": {
      "text/plain": [
       "{'stdscl': StandardScaler(),\n",
       " 'minmax': MinMaxScaler(),\n",
       " 'onehot': OneHotEncoder(categories=[['anionic', 'cationic', 'neutral', 'zwitterionic']],\n",
       "               handle_unknown='ignore'),\n",
       " 'remainder': 'drop'}"
      ]
     },
     "execution_count": 9,
     "metadata": {},
     "output_type": "execute_result"
    }
   ],
   "source": [
    "ivpk.data.x_preprocessor.named_transformers_"
   ]
  },
  {
   "cell_type": "code",
   "execution_count": 10,
   "id": "rental-trigger",
   "metadata": {},
   "outputs": [
    {
     "data": {
      "text/plain": [
       "{'with_mean': True,\n",
       " 'with_std': True,\n",
       " 'copy': True,\n",
       " 'n_features_in_': 4,\n",
       " 'n_samples_seen_': 1337,\n",
       " 'mean_': array([1.65813912, 0.11210359, 8.60990855, 6.46885798]),\n",
       " 'var_': array([ 8.43939101, 11.29585115,  0.58405993,  1.36829078]),\n",
       " 'scale_': array([2.905063  , 3.3609301 , 0.76423813, 1.16973962])}"
      ]
     },
     "execution_count": 10,
     "metadata": {},
     "output_type": "execute_result"
    }
   ],
   "source": [
    "ivpk.data.x_preprocessor.named_transformers_['stdscl'].__dict__"
   ]
  },
  {
   "cell_type": "code",
   "execution_count": 11,
   "id": "gross-syria",
   "metadata": {},
   "outputs": [
    {
     "data": {
      "text/plain": [
       "{'feature_range': (0, 1),\n",
       " 'copy': True,\n",
       " 'clip': False,\n",
       " 'n_features_in_': 3,\n",
       " 'n_samples_seen_': 1337,\n",
       " 'scale_': array([0.06666667, 0.14285714, 0.07692308]),\n",
       " 'min_': array([0., 0., 0.]),\n",
       " 'data_min_': array([0., 0., 0.]),\n",
       " 'data_max_': array([15.,  7., 13.]),\n",
       " 'data_range_': array([15.,  7., 13.])}"
      ]
     },
     "execution_count": 11,
     "metadata": {},
     "output_type": "execute_result"
    }
   ],
   "source": [
    "ivpk.data.x_preprocessor.named_transformers_['minmax'].__dict__"
   ]
  },
  {
   "cell_type": "code",
   "execution_count": 12,
   "id": "nominated-fossil",
   "metadata": {},
   "outputs": [
    {
     "data": {
      "text/plain": [
       "[array(['anionic', 'cationic', 'neutral', 'zwitterionic'], dtype=object)]"
      ]
     },
     "execution_count": 12,
     "metadata": {},
     "output_type": "execute_result"
    }
   ],
   "source": [
    "ivpk.data.x_preprocessor.named_transformers_['onehot'].categories_"
   ]
  },
  {
   "cell_type": "markdown",
   "id": "minute-sphere",
   "metadata": {},
   "source": [
    "Now we have the processed x and the processor. Note the we've dropped records containing missing values in x variables. According to the article, MoKa software cannot calculate these missing due to:\n",
    "> \"either relatively large molecules (e.g., mipomersen,MW7150 Da) or the presence of metal ions (e.g., Gd or Pt) in the compounds\"\n",
    "\n",
    "In model application, we can impute missing MoKa values by other methods."
   ]
  },
  {
   "cell_type": "markdown",
   "id": "breathing-central",
   "metadata": {},
   "source": [
    "## Y variables\n",
    "\n",
    "According to project requirement we only need to predict VDss and CL. The strategy is to log2 transform raw data and drop missing value in each target."
   ]
  },
  {
   "cell_type": "code",
   "execution_count": 13,
   "id": "listed-colony",
   "metadata": {},
   "outputs": [],
   "source": [
    "y_vdss = ivpk.data.get_processed_y(\"VDss\")\n",
    "y_cl = ivpk.data.get_processed_y(\"CL\")"
   ]
  },
  {
   "cell_type": "markdown",
   "id": "caring-homeless",
   "metadata": {},
   "source": [
    "The preprocessing of Y variables are straight forward. When we need to reverse-transform the predicted value (except fu), just exp10 it."
   ]
  },
  {
   "cell_type": "markdown",
   "id": "stone-motel",
   "metadata": {},
   "source": [
    "## SMILES variables\n",
    "There are in total 1340 valid SMILES. \n",
    "\n",
    "### Fingerprints\n",
    "We can use some fingerprints as molecular embedding baseline. Explore several from [rdkit available fingerprints](https://www.rdkit.org/docs/GettingStartedInPython.html#list-of-available-fingerprints):\n",
    "- RDKit fingerprints\n",
    "- Morgan\n",
    "- [2D pharmacophore](https://www.rdkit.org/docs/GettingStartedInPython.html#d-pharmacophore-fingerprints)"
   ]
  },
  {
   "cell_type": "code",
   "execution_count": 27,
   "id": "differential-control",
   "metadata": {},
   "outputs": [
    {
     "data": {
      "text/plain": [
       "478                         CC[C@@H](CO)NCCN[C@@H](CC)CO\n",
       "358                   Clc1ccc2NC(=O)CN=C(c3ccccc3Cl)c2c1\n",
       "69                CCN(CC)Cc1cc(ccc1O)Nc2ccnc3c2ccc(c3)Cl\n",
       "57                          c1c(cc([n+](n1)c1ccccc1)OC)N\n",
       "285    C[N+]1([C@@H]2C[C@H](C[C@H]1[C@H]3[C@@H]2O3)OC...\n",
       "878    COC(=O)C1=C(C)NC(=C(C1c2ccccc2N(=O)=O)C(=O)OCC...\n",
       "404                     CN1C(=O)N(C)c2ncn(CC(O)CO)c2C1=O\n",
       "700    COC(c1cnc2C(=C3CCN(CC3)CCc3ccc(cc3)OCc3ccc4ccc...\n",
       "974    c12[C@@]3([C@@H](N(C)c1ccc(c2)OC(NC)=O)[N@@](C...\n",
       "227    CO\\N=C(\\C(=O)N[C@H]1[C@H]2SCC(=C(N2C1=O)C([O-]...\n",
       "Name: SMILES, dtype: object"
      ]
     },
     "execution_count": 27,
     "metadata": {},
     "output_type": "execute_result"
    }
   ],
   "source": [
    "df.SMILES.sample(10)"
   ]
  },
  {
   "cell_type": "code",
   "execution_count": 28,
   "id": "bibliographic-decimal",
   "metadata": {},
   "outputs": [
    {
     "data": {
      "image/png": "[encoded data removed]",
      "text/plain": [
       "<PIL.PngImagePlugin.PngImageFile image mode=RGB size=600x200 at 0x7FAC64CAB400>"
      ]
     },
     "execution_count": 28,
     "metadata": {},
     "output_type": "execute_result"
    }
   ],
   "source": [
    "mol = Chem.MolFromSmiles(\"C[C@H](C1=C(CCN(C)C)Cc2ccccc12)c1cnccn1\")\n",
    "mol2 = Chem.MolFromSmiles(\"CNC(=O)c1ccccc1Sc2ccc3c(c2)[nH]nc3/C=C/c4ccccn4\")\n",
    "Draw.MolsToGridImage([mol, mol2])"
   ]
  },
  {
   "cell_type": "markdown",
   "id": "chinese-rwanda",
   "metadata": {},
   "source": [
    "#### RDKit fingerprints"
   ]
  },
  {
   "cell_type": "code",
   "execution_count": 29,
   "id": "objective-disability",
   "metadata": {},
   "outputs": [
    {
     "name": "stdout",
     "output_type": "stream",
     "text": [
      "2048 bits: 10101100100100100001...\n"
     ]
    }
   ],
   "source": [
    "# RDKit fingerprints with default fpSize\n",
    "rdkfp = Chem.RDKFingerprint(mol)\n",
    "print(f\"{len(rdkfp.ToBitString())} bits: {rdkfp.ToBitString()[:20]}...\")"
   ]
  },
  {
   "cell_type": "code",
   "execution_count": 30,
   "id": "upper-austin",
   "metadata": {},
   "outputs": [
    {
     "name": "stdout",
     "output_type": "stream",
     "text": [
      "1024 bits: 10111100100100111011...\n"
     ]
    }
   ],
   "source": [
    "# RDKit fingerprints with customized fpSize\n",
    "rdkfp = Chem.RDKFingerprint(mol, fpSize=1024)\n",
    "print(f\"{len(rdkfp.ToBitString())} bits: {rdkfp.ToBitString()[:20]}...\")"
   ]
  },
  {
   "cell_type": "code",
   "execution_count": 31,
   "id": "resistant-optics",
   "metadata": {},
   "outputs": [
    {
     "data": {
      "text/plain": [
       "'1011110010010011101110111101110111101110111101011111111111111101101011111111011111000101011111111001110100111110111011101011111111111011110110110110111110011101011001111110000010100111100011101111011110101011011111000011001101111111100101110110011111111101111110011011111111011001000111101101011100111011111111110111101111110000011010000010111011101101001111001111001110011101011000011000011011111100110001110111101011100111011111111110100101010110010101110111111111101111011001110101100101001111101111100111111111001111011111011110111110001101110011100101111011111000010111101011111100110011101001100111110011111011111101001100001111101010101011011111111111101111110001101111010110111111100101101111110111111111110111010110000101111001111111101010101111110111111111011111001111110110101111111100011010111111101111100111001111111010110111101111010011111011111111111101001111011101011111011111101100111001110111011111111111111011101111110100011111100111110000100110110110111111111010111011101100101100111100101001011011110011'"
      ]
     },
     "execution_count": 31,
     "metadata": {},
     "output_type": "execute_result"
    }
   ],
   "source": [
    "rdkfp.ToBitString()"
   ]
  },
  {
   "cell_type": "code",
   "execution_count": 32,
   "id": "adapted-desktop",
   "metadata": {},
   "outputs": [
    {
     "name": "stdout",
     "output_type": "stream",
     "text": [
      "1024 bits: 11111100111101101000...\n"
     ]
    }
   ],
   "source": [
    "# RDKit fingerprints with customized fpSize\n",
    "rdkfp = Chem.RDKFingerprint(mol2, fpSize=1024)\n",
    "print(f\"{len(rdkfp.ToBitString())} bits: {rdkfp.ToBitString()[:20]}...\")"
   ]
  },
  {
   "cell_type": "code",
   "execution_count": 33,
   "id": "chronic-seller",
   "metadata": {},
   "outputs": [
    {
     "data": {
      "text/plain": [
       "'1111110011110110100001011111110011101111110111111101111101100001110111111111110101010101010101011011110110101100001011001111110110110110100100110011101010000011011111101111111001111111000111101111110111111110111111111010111111111001011111011101111110111111110001111111111110110110111111111100111111100100011111110011111111111111101110110010100011101110000001010001111110010101101111110011001011110001101101001010111111010001100000011110001001100110011111000110011111101111111111101111110101011001111001101110011011111111110101010101111110000000110111101111011010111111000011011111110111001011111100101110111010101111110011111111101011111000101111010010110110111000101110111111110100011011110111110111101110101001100011010101111011101000011111101101010010101100100111100011100010011010011101101101010110100001111111010111000010100010001101110011101110101011011101001111111111111111010111011001101001110010010110110011111110101011001101111010100000101011100111111000101001010001111111001110001111111111111111011001011111111101'"
      ]
     },
     "execution_count": 33,
     "metadata": {},
     "output_type": "execute_result"
    }
   ],
   "source": [
    "rdkfp.ToBitString()"
   ]
  },
  {
   "cell_type": "markdown",
   "id": "silver-celtic",
   "metadata": {},
   "source": [
    "After a few exploration, if fpSize is too small (e.g. 256) the differentiation will have a sharp drop. Consider the default 2048 or 1024."
   ]
  },
  {
   "cell_type": "markdown",
   "id": "placed-opposition",
   "metadata": {},
   "source": [
    "#### Morgan fingerprints"
   ]
  },
  {
   "cell_type": "code",
   "execution_count": 34,
   "id": "directed-trust",
   "metadata": {},
   "outputs": [],
   "source": [
    "from rdkit.Chem.rdMolDescriptors import GetMorganFingerprintAsBitVect\n",
    "from rdkit.Chem import AllChem"
   ]
  },
  {
   "cell_type": "code",
   "execution_count": 35,
   "id": "modern-strike",
   "metadata": {},
   "outputs": [
    {
     "name": "stdout",
     "output_type": "stream",
     "text": [
      "43 on bits in total 2048 bits\n"
     ]
    }
   ],
   "source": [
    "morganfp = GetMorganFingerprintAsBitVect(mol, 2, nBits=2048)\n",
    "print(f\"{morganfp.GetNumOnBits()} on bits in total {morganfp.GetNumBits()} bits\")"
   ]
  },
  {
   "cell_type": "markdown",
   "id": "damaged-tractor",
   "metadata": {},
   "source": [
    "Morgan fingerprints at radius 2 is close to ECFP4 (4 is the diameter). Let's try explore fpSize:"
   ]
  },
  {
   "cell_type": "code",
   "execution_count": 36,
   "id": "seventh-chaos",
   "metadata": {},
   "outputs": [
    {
     "name": "stdout",
     "output_type": "stream",
     "text": [
      "01000000000000000000000000001000010000000000000100100001000000001001000000000000100000000000001000010100000000000000000000000000000000000001100000000001000000000000000000001001001001000000000001000000000000000000101000010001000000000000000000000000000000000000000100000000000000000001000000000000000000000000000000000000000000000010000101000000000000001000100010000000010000010010000000000000000000000000000000100011000000000000100000000000000000000000000000000000000000001000000000000000000000000000010000000001 \n",
      "\n",
      "01000000000000000000000000000000010000001000000000000000100001001010100000100000000100000010000000000000000000000000100100000000100100000110000000000000000000000000000000000001000000100000000000000100000000000000001000000000000000010000000000000000000000100000000000000000000000000000000000000001000101000000000000000000000100000010010001000100110000000000100000010000000001000110010000000000000000000001001000000000001000010100101000000000000000001000000100000000010010000000000010000010000000000000000000000000\n"
     ]
    }
   ],
   "source": [
    "print(GetMorganFingerprintAsBitVect(mol, 2, nBits=512).ToBitString(), \"\\n\")\n",
    "print(GetMorganFingerprintAsBitVect(mol2, 2, nBits=512).ToBitString())"
   ]
  },
  {
   "cell_type": "code",
   "execution_count": 37,
   "id": "israeli-object",
   "metadata": {},
   "outputs": [
    {
     "name": "stdout",
     "output_type": "stream",
     "text": [
      "0100000100000000000000000001100001000000000000010010000100000000100100000010000111000000000000101001110010000000010000010010000000000000000110000000000100100011000000000000100100100100000000000100000000000000000010101001000100000000000000000000010000000001 \n",
      "\n",
      "0100000000000000000000000000000001000001100101000000000010000100101110000010010001010100111000000000100000010000000011010110010010010000011000000001001000000000001000010100101100000010000000001000010100000000010010100000000010000011000000000000000000000010\n"
     ]
    }
   ],
   "source": [
    "print(GetMorganFingerprintAsBitVect(mol, 2, nBits=256).ToBitString(), \"\\n\")\n",
    "print(GetMorganFingerprintAsBitVect(mol2, 2, nBits=256).ToBitString())"
   ]
  },
  {
   "cell_type": "markdown",
   "id": "whole-brooks",
   "metadata": {},
   "source": [
    "Seems Morgan fingerprints can tolerate lower dimensionality. Probably we need an overall diversity examination?"
   ]
  },
  {
   "cell_type": "code",
   "execution_count": 38,
   "id": "forbidden-charm",
   "metadata": {},
   "outputs": [
    {
     "data": {
      "text/plain": [
       "<matplotlib.axes._subplots.AxesSubplot at 0x7fac64e80b20>"
      ]
     },
     "execution_count": 38,
     "metadata": {},
     "output_type": "execute_result"
    },
    {
     "data": {
      "image/png": "[encoded data removed]",
      "text/plain": [
       "<Figure size 432x288 with 2 Axes>"
      ]
     },
     "metadata": {
      "needs_background": "light"
     },
     "output_type": "display_data"
    }
   ],
   "source": [
    "sns.heatmap(ivpk.utils.get_fp_mat(df.SMILES.sample(10).tolist(), 'morgan', 128))"
   ]
  },
  {
   "cell_type": "markdown",
   "id": "diagnostic-mozambique",
   "metadata": {},
   "source": [
    "Fingerprint dimensionality can be a hyperparameter."
   ]
  },
  {
   "cell_type": "markdown",
   "id": "motivated-validation",
   "metadata": {},
   "source": [
    "#### 2D Pharmacophore fingerprints\n",
    "2D Pharmacophore fingerprints from pre-configured signature factory:"
   ]
  },
  {
   "cell_type": "code",
   "execution_count": 39,
   "id": "unlikely-glossary",
   "metadata": {},
   "outputs": [],
   "source": [
    "from rdkit.Chem.Pharm2D import Gobbi_Pharm2D, Generate\n",
    "pharmacofp = Generate.Gen2DFingerprint(mol, Gobbi_Pharm2D.factory)"
   ]
  },
  {
   "cell_type": "code",
   "execution_count": 40,
   "id": "severe-casting",
   "metadata": {},
   "outputs": [
    {
     "data": {
      "text/plain": [
       "<rdkit.DataStructs.cDataStructs.SparseBitVect at 0x7fac643e89a0>"
      ]
     },
     "execution_count": 40,
     "metadata": {},
     "output_type": "execute_result"
    }
   ],
   "source": [
    "pharmacofp"
   ]
  },
  {
   "cell_type": "code",
   "execution_count": 41,
   "id": "dramatic-throw",
   "metadata": {},
   "outputs": [
    {
     "name": "stdout",
     "output_type": "stream",
     "text": [
      "109 on bits in total 39972 bits\n"
     ]
    }
   ],
   "source": [
    "print(f\"{pharmacofp.GetNumOnBits()} on bits in total {pharmacofp.GetNumBits()} bits\")"
   ]
  },
  {
   "cell_type": "markdown",
   "id": "attempted-triumph",
   "metadata": {},
   "source": [
    "In summary, dimensionality in pharmacophore fingerprint is too high for this project (N=1340) without a proper dimension-reduction. Let's just start with Morgan and RDKit fingerprint."
   ]
  },
  {
   "cell_type": "code",
   "execution_count": 55,
   "id": "horizontal-presentation",
   "metadata": {},
   "outputs": [
    {
     "data": {
      "text/plain": [
       "(10, 512)"
      ]
     },
     "execution_count": 55,
     "metadata": {},
     "output_type": "execute_result"
    }
   ],
   "source": [
    "fpmat = ivpk.utils.get_fp_mat(df.SMILES.sample(10).tolist(), fpSize=512)\n",
    "fpmat.shape"
   ]
  },
  {
   "cell_type": "code",
   "execution_count": 56,
   "id": "reverse-homeless",
   "metadata": {},
   "outputs": [
    {
     "data": {
      "text/plain": [
       "(10, 1024)"
      ]
     },
     "execution_count": 56,
     "metadata": {},
     "output_type": "execute_result"
    }
   ],
   "source": [
    "fpmat = ivpk.utils.get_fp_mat(df.SMILES.sample(10).tolist(), fpType='rdkit', fpSize=1024)\n",
    "fpmat.shape"
   ]
  },
  {
   "cell_type": "code",
   "execution_count": 57,
   "id": "bottom-blackberry",
   "metadata": {},
   "outputs": [
    {
     "data": {
      "text/plain": [
       "dtype('float64')"
      ]
     },
     "execution_count": 57,
     "metadata": {},
     "output_type": "execute_result"
    }
   ],
   "source": [
    "fpmat.dtype"
   ]
  },
  {
   "cell_type": "code",
   "execution_count": 59,
   "id": "colored-journey",
   "metadata": {},
   "outputs": [
    {
     "data": {
      "text/plain": [
       "array([[0., 0., 0., ..., 0., 0., 0.],\n",
       "       [0., 1., 0., ..., 0., 0., 0.],\n",
       "       [0., 1., 0., ..., 0., 0., 0.],\n",
       "       ...,\n",
       "       [0., 0., 0., ..., 0., 0., 0.],\n",
       "       [0., 0., 0., ..., 0., 0., 0.],\n",
       "       [0., 1., 1., ..., 0., 0., 0.]])"
      ]
     },
     "execution_count": 59,
     "metadata": {},
     "output_type": "execute_result"
    }
   ],
   "source": [
    "# wrap in data module\n",
    "ivpk.data.get_fingerprints(df.sample(50))"
   ]
  },
  {
   "cell_type": "markdown",
   "id": "graduate-aquarium",
   "metadata": {},
   "source": [
    "### (future) Latent representation\n",
    "\n",
    "Except structure-based fingerprints, we can also explore latent representations, e.g. from pre-trained GNN. Let's hold this task until framework is done."
   ]
  }
 ],
 "metadata": {
  "kernelspec": {
   "display_name": "Python 3",
   "language": "python",
   "name": "python3"
  },
  "language_info": {
   "codemirror_mode": {
    "name": "ipython",
    "version": 3
   },
   "file_extension": ".py",
   "mimetype": "text/x-python",
   "name": "python",
   "nbconvert_exporter": "python",
   "pygments_lexer": "ipython3",
   "version": "3.8.8"
  }
 },
 "nbformat": 4,
 "nbformat_minor": 5
}
